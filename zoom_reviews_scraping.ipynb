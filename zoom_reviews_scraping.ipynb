{
 "cells": [
  {
   "cell_type": "markdown",
   "metadata": {},
   "source": [
    "## librerias"
   ]
  },
  {
   "cell_type": "code",
   "execution_count": 1,
   "metadata": {},
   "outputs": [],
   "source": [
    "import urllib.request\n",
    "import requests\n",
    "import sys                                                  # built in\n",
    "from bs4 import BeautifulSoup\n",
    "import pandas as pd\n",
    "from pandas.io.json import json_normalize\n",
    "import json                                                 # built in\n",
    "import ast                                                  # built in\n",
    "import numpy as np\n",
    "\n",
    "import time\n",
    "\n",
    "import pandas as pd\n",
    "\n",
    "from multiprocessing import Pool\n",
    "\n",
    "import os"
   ]
  },
  {
   "cell_type": "code",
   "execution_count": 2,
   "metadata": {},
   "outputs": [],
   "source": [
    "from selenium import webdriver\n",
    "from selenium.webdriver.chrome.options import Options\n",
    "from selenium.webdriver import ActionChains\n",
    "\n",
    "from selenium.webdriver.support.ui import WebDriverWait\n",
    "from selenium.webdriver.support import expected_conditions as EC\n",
    "from selenium.webdriver.common.by import By\n",
    "\n",
    "\n",
    "# set options to be headless, ..\n",
    "\n",
    "options = Options()\n",
    "options.add_argument('--blink-settings=imagesEnabled=false')\n",
    "\n",
    "#options.add_argument('--headless')\n",
    "#options.add_argument('--no-sandbox')\n",
    "#options.add_argument('--disable-dev-shm-usage')\n"
   ]
  },
  {
   "cell_type": "markdown",
   "metadata": {},
   "source": [
    "## codigo driver get url\n"
   ]
  },
  {
   "cell_type": "code",
   "execution_count": 3,
   "metadata": {},
   "outputs": [],
   "source": [
    "# pagina de busqueda\n",
    "\n",
    "url = 'https://play.google.com/store/apps/details?id=us.zoom.videomeetings&hl=es_PE&gl=US&showAllReviews=true'\n"
   ]
  },
  {
   "cell_type": "code",
   "execution_count": 4,
   "metadata": {},
   "outputs": [],
   "source": [
    "driver = webdriver.Chrome(executable_path=r\"C:\\chromedriver_win32\\chromedriver.exe\", options=options)\n",
    "driver.get(url)"
   ]
  },
  {
   "cell_type": "code",
   "execution_count": 5,
   "metadata": {},
   "outputs": [],
   "source": [
    "# get html\n",
    "page_detailed = driver.page_source\n",
    "\n",
    "# close the driver\n",
    "driver.quit()\n",
    "\n",
    "# BS\n",
    "detail_soup = BeautifulSoup(page_detailed)"
   ]
  },
  {
   "cell_type": "code",
   "execution_count": 6,
   "metadata": {},
   "outputs": [],
   "source": [
    "# listings = detail_soup.find_all('div', 'card  edit_hover_class')  \n",
    "\n",
    "listings = detail_soup.find_all('div', 'd15Mdf bAhLNe')    # UD7Dzf\n"
   ]
  },
  {
   "cell_type": "code",
   "execution_count": 7,
   "metadata": {},
   "outputs": [
    {
     "data": {
      "text/plain": [
       "520"
      ]
     },
     "execution_count": 7,
     "metadata": {},
     "output_type": "execute_result"
    }
   ],
   "source": [
    "len(listings)"
   ]
  },
  {
   "cell_type": "markdown",
   "metadata": {},
   "source": [
    "## all features"
   ]
  },
  {
   "cell_type": "code",
   "execution_count": 8,
   "metadata": {},
   "outputs": [],
   "source": [
    "RULES_SEARCH_PAGE = {\n",
    "    'comentario': {'tag': 'div', 'class': 'UD7Dzf'},  \n",
    "    'fecha': {'tag': 'span', 'class': 'p2TkOb'}, \n",
    "   'likes': {'tag': 'div', 'class': 'jUL89d y92BAb'}\n",
    "}\n",
    "\n",
    "\n",
    "# Third Generation :)\n",
    "def extract_element(listing_html, params):\n",
    "    # 1. Find the right tag\n",
    "    if 'class' in params:\n",
    "        elements_found = listing_html.find_all(params['tag'], params['class'])\n",
    "    else:\n",
    "        elements_found = listing_html.find_all(params['tag'])\n",
    "\n",
    "    # 2. Extract the right element\n",
    "    tag_order = params.get('order', 0)\n",
    "    element = elements_found[tag_order]\n",
    "        \n",
    "    # 3. Get text\n",
    "    if 'get' in params:\n",
    "        output = element.get(params['get'])\n",
    "    else:\n",
    "        output = element.get_text()\n",
    "\n",
    "    return output"
   ]
  },
  {
   "cell_type": "code",
   "execution_count": 9,
   "metadata": {},
   "outputs": [
    {
     "name": "stdout",
     "output_type": "stream",
     "text": [
      "comentario:  Es una aplicación muy buena en estos tiempos difíciles, para toda buena obra,gracias, no para dañar,me gusta mucho. De mucha ayuda gracias.\n",
      "fecha: December 28, 2021\n",
      "likes: 43\n"
     ]
    }
   ],
   "source": [
    "for feature in RULES_SEARCH_PAGE:\n",
    "    try:\n",
    "        print(f\"{feature}: {extract_element(listings[0], RULES_SEARCH_PAGE[feature])}\")\n",
    "    except:\n",
    "        print(f\"{feature}: empty\")"
   ]
  },
  {
   "cell_type": "code",
   "execution_count": 10,
   "metadata": {},
   "outputs": [],
   "source": [
    "def extract_page_features(soup, rules):\n",
    "    features_dict = {}\n",
    "    for feature in rules:\n",
    "        try:\n",
    "            features_dict[feature] = extract_element(soup, rules[feature])\n",
    "        except:\n",
    "            features_dict[feature] = 'empty'\n",
    "    \n",
    "    return features_dict"
   ]
  },
  {
   "cell_type": "code",
   "execution_count": 11,
   "metadata": {},
   "outputs": [],
   "source": [
    "features_list = []\n",
    "\n",
    "for comment in listings:\n",
    "            features = extract_page_features(comment, RULES_SEARCH_PAGE)\n",
    "            features_list.append(features)"
   ]
  },
  {
   "cell_type": "code",
   "execution_count": 12,
   "metadata": {},
   "outputs": [
    {
     "data": {
      "text/plain": [
       "[{'comentario': ' Es una aplicación muy buena en estos tiempos difíciles, para toda buena obra,gracias, no para dañar,me gusta mucho. De mucha ayuda gracias.',\n",
       "  'fecha': 'December 28, 2021',\n",
       "  'likes': '43'},\n",
       " {'comentario': ' Deberían de optimizar más la interfaz para móviles ya que la de tablets esta mas cuidada que la de móviles partiendo de los diseño y vista de galería lo contrario que ocurre con meet',\n",
       "  'fecha': 'January 4, 2022',\n",
       "  'likes': '14'},\n",
       " {'comentario': ' Muy bueno pero los anuncios interfieren muchísimo en la calidad de este servicio tan bueno',\n",
       "  'fecha': 'December 29, 2021',\n",
       "  'likes': '38'}]"
      ]
     },
     "execution_count": 12,
     "metadata": {},
     "output_type": "execute_result"
    }
   ],
   "source": [
    "features_list[:3]"
   ]
  },
  {
   "cell_type": "code",
   "execution_count": 13,
   "metadata": {},
   "outputs": [
    {
     "data": {
      "text/plain": [
       "(520, 3)"
      ]
     },
     "execution_count": 13,
     "metadata": {},
     "output_type": "execute_result"
    }
   ],
   "source": [
    "df = pd.DataFrame.from_dict(features_list)\n",
    "\n",
    "df.shape"
   ]
  },
  {
   "cell_type": "code",
   "execution_count": 14,
   "metadata": {},
   "outputs": [
    {
     "data": {
      "text/html": [
       "<div>\n",
       "<style scoped>\n",
       "    .dataframe tbody tr th:only-of-type {\n",
       "        vertical-align: middle;\n",
       "    }\n",
       "\n",
       "    .dataframe tbody tr th {\n",
       "        vertical-align: top;\n",
       "    }\n",
       "\n",
       "    .dataframe thead th {\n",
       "        text-align: right;\n",
       "    }\n",
       "</style>\n",
       "<table border=\"1\" class=\"dataframe\">\n",
       "  <thead>\n",
       "    <tr style=\"text-align: right;\">\n",
       "      <th></th>\n",
       "      <th>comentario</th>\n",
       "      <th>fecha</th>\n",
       "      <th>likes</th>\n",
       "    </tr>\n",
       "  </thead>\n",
       "  <tbody>\n",
       "    <tr>\n",
       "      <th>0</th>\n",
       "      <td>Es una aplicación muy buena en estos tiempos ...</td>\n",
       "      <td>December 28, 2021</td>\n",
       "      <td>43</td>\n",
       "    </tr>\n",
       "    <tr>\n",
       "      <th>1</th>\n",
       "      <td>Deberían de optimizar más la interfaz para mó...</td>\n",
       "      <td>January 4, 2022</td>\n",
       "      <td>14</td>\n",
       "    </tr>\n",
       "    <tr>\n",
       "      <th>2</th>\n",
       "      <td>Muy bueno pero los anuncios interfieren muchí...</td>\n",
       "      <td>December 29, 2021</td>\n",
       "      <td>38</td>\n",
       "    </tr>\n",
       "    <tr>\n",
       "      <th>3</th>\n",
       "      <td>Ha sido de mucha ayuda. Pienso que en muchos ...</td>\n",
       "      <td>December 4, 2021</td>\n",
       "      <td>128</td>\n",
       "    </tr>\n",
       "    <tr>\n",
       "      <th>4</th>\n",
       "      <td>Me gusta la calidad de fotos. Pero hay una di...</td>\n",
       "      <td>November 23, 2021</td>\n",
       "      <td>91</td>\n",
       "    </tr>\n",
       "  </tbody>\n",
       "</table>\n",
       "</div>"
      ],
      "text/plain": [
       "                                          comentario              fecha likes\n",
       "0   Es una aplicación muy buena en estos tiempos ...  December 28, 2021    43\n",
       "1   Deberían de optimizar más la interfaz para mó...    January 4, 2022    14\n",
       "2   Muy bueno pero los anuncios interfieren muchí...  December 29, 2021    38\n",
       "3   Ha sido de mucha ayuda. Pienso que en muchos ...   December 4, 2021   128\n",
       "4   Me gusta la calidad de fotos. Pero hay una di...  November 23, 2021    91"
      ]
     },
     "execution_count": 14,
     "metadata": {},
     "output_type": "execute_result"
    }
   ],
   "source": [
    "df.head()"
   ]
  },
  {
   "cell_type": "code",
   "execution_count": 15,
   "metadata": {},
   "outputs": [],
   "source": [
    "import openpyxl\n",
    "\n",
    "# insertar ruta de la carpeta donde se exportará el dataframe\n",
    "df.to_excel(r\"D:\\PUCP\\casos_analytics\\zoom_reviews.xlsx\", index = False)"
   ]
  }
 ],
 "metadata": {
  "interpreter": {
   "hash": "4624fc293a9ad1bd2ab4f2b60a9e4cde85ceda4c35ee08316d83f5b18f57e725"
  },
  "kernelspec": {
   "display_name": "Python 3.6.5 64-bit ('venv-scrap': venv)",
   "name": "python3"
  },
  "language_info": {
   "codemirror_mode": {
    "name": "ipython",
    "version": 3
   },
   "file_extension": ".py",
   "mimetype": "text/x-python",
   "name": "python",
   "nbconvert_exporter": "python",
   "pygments_lexer": "ipython3",
   "version": "3.6.5"
  },
  "orig_nbformat": 4
 },
 "nbformat": 4,
 "nbformat_minor": 2
}
